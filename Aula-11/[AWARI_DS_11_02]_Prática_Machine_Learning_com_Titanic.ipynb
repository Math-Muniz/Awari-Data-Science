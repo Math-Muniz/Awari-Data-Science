{
  "nbformat": 4,
  "nbformat_minor": 0,
  "metadata": {
    "colab": {
      "provenance": [],
      "toc_visible": true,
      "collapsed_sections": [
        "zInCN9y0MQtC",
        "n0LtfYwd73q8"
      ]
    },
    "kernelspec": {
      "name": "python3",
      "display_name": "Python 3"
    }
  },
  "cells": [
    {
      "cell_type": "markdown",
      "source": [
        "![header-notebooks.png](data:image/png;base64,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)\n",
        "\n",
        "Prática da **Aula 11: Machine Learning I**, do curso de **Data Science** da **[Awari](https://awari.com.br/)**. Para utilizá-la, vá no menu \"Arquivo\" e, em seguida, na opção \"Salvar uma cópia no Drive\". Isto criará uma cópia deste notebook em uma pasta chamada \"Colab Notebooks\", no seu Google Drive pessoal. Use a cópia para criar novas células de código ou executar as células desta prática.\n",
        "\n",
        "---"
      ],
      "metadata": {
        "id": "Shf3xKFKTT2p"
      }
    },
    {
      "cell_type": "markdown",
      "source": [
        "# **Machine Learning com Titanic**"
      ],
      "metadata": {
        "id": "drVuhF-4TtNd"
      }
    },
    {
      "cell_type": "markdown",
      "metadata": {
        "id": "t3G--Mqr5b2t"
      },
      "source": [
        "## **Objetivo**\n",
        "\n",
        "Nesta prática, voltamos a utilizar o dataset do naufrágio do Titanic, que já vimos ao longo do curso.\n",
        "\n",
        "Aqui, porém, além de análise exploratório dos dados, implementaremos modelos de Machine Learning para tentar prever quais as chances de sobrevivência de uma passageira qualquer.\n",
        "\n",
        "Basicamente, estamos interessandos em responder as seguintes perguntas:\n",
        "\n",
        "* Será que alguns grupos de passageiros tiveram mais \"sorte\" que outros?\n",
        "\n",
        "* Mulheres e crianças tiveram mais chances de sobreviver?\n",
        "\n",
        "* Alguns passageiros foram menos favorecidos por terem embarcado na 3ª Classe?"
      ]
    },
    {
      "cell_type": "markdown",
      "source": [
        "## **Prática**"
      ],
      "metadata": {
        "id": "j1zM5wpDUXwk"
      }
    },
    {
      "cell_type": "markdown",
      "source": [
        "### **Preparativos**\n",
        "\n",
        "Vamos importar as bibliotecas e os conjuntos de dados. Neste caso, usaremos o dataset de passageiros divididos em outros dois:\n",
        "\n",
        "* **Conjunto de treino (train.csv):** composto por diversas informações sobre os passageiros, como gênero, classe de embarque, idade, etc. Esse conjunto também deve ser usado para construir e treinar o modelo de Machine Learning, nele é informado se o passageiro sobreviveu ou não.\n",
        "\n",
        "* **Conjunto de teste (test.csv):** este dataset não informa se o passageiro sobreviveu ou não, e deve ser usado como dados nunca vistos pelo modelo, de forma a verificar o desempenho do mesmo."
      ],
      "metadata": {
        "id": "rfnvQmKwUk5e"
      }
    },
    {
      "cell_type": "code",
      "metadata": {
        "id": "kF084PGALQZB"
      },
      "source": [
        "# Importando bibliotecas\n",
        "import pandas as pd\n",
        "import matplotlib.pyplot as plt\n",
        "%matplotlib inline\n",
        "\n",
        "import seaborn as sns\n",
        "paleta_cores = [\"#34495e\", \"#5497B0\", \"#89B7D0\"]\n",
        "sns.set(style = \"dark\", palette = paleta_cores, color_codes = True)"
      ],
      "execution_count": null,
      "outputs": []
    },
    {
      "cell_type": "code",
      "metadata": {
        "id": "UrJFl_XEmsct"
      },
      "source": [
        "# Obtendo os conjuntos de dados\n",
        "treino = pd.read_csv('https://raw.githubusercontent.com/jeffersonverissimo/datasets/master/titanic/train.csv')\n",
        "teste =  pd.read_csv('https://raw.githubusercontent.com/jeffersonverissimo/datasets/master/titanic/test.csv')"
      ],
      "execution_count": null,
      "outputs": []
    },
    {
      "cell_type": "markdown",
      "metadata": {
        "id": "OmqbFlgr7M1Y"
      },
      "source": [
        "### **Análise exploratória**\n",
        "\n",
        "Vamos fazer uma análise exploratória dos dados que usaremos para entendê-los melhor. Esta etapa quase sempre sucede a implementação de modelos de Machine Learning."
      ]
    },
    {
      "cell_type": "code",
      "metadata": {
        "id": "OK55m33lnM8s"
      },
      "source": [
        "# Visilizando dados de treino\n",
        "treino.head()"
      ],
      "execution_count": null,
      "outputs": []
    },
    {
      "cell_type": "markdown",
      "metadata": {
        "id": "DNvuwvAU7ZUy"
      },
      "source": [
        "As variáveis, caso seja necessário relembrá-las, significam:\n",
        "\n",
        "* **PassengerID:** número de identificação do passageiro;\n",
        "* **Survived:** informa se o passageiro sobreviveu ao naufrágio:\n",
        " * 0 = não;\n",
        " * 1 = sim;\n",
        "* **PCclass:** classe do bilhete:\n",
        " * 1 = 1ª classe;\n",
        " * 2 = 2ª classe;\n",
        " * 3 = 3ª classe;\n",
        "* **Name:** nome do passageiro;\n",
        "* **Sex:** sexo do passageiro;\n",
        "* **Age:** idade do passageiro;\n",
        "* **SibSp:** quantidade de cônjuges e/ou irmãos a bordo;\n",
        "* **Parch:** quantidade de pais e filhos a bordo;\n",
        "* **Ticket:** número da passagem;\n",
        "* **Fare:** preço da passagem;\n",
        "* **Cabin:** número da cabine do passageiro;\n",
        "* **Embarked:** porto de embarque:\n",
        " * C = Cherbourg;\n",
        " * Q = Queenstown;\n",
        " * S = Southampton;"
      ]
    },
    {
      "cell_type": "markdown",
      "source": [
        "#### **Respondendo perguntas básicas**"
      ],
      "metadata": {
        "id": "m_Zrtm_RVfnZ"
      }
    },
    {
      "cell_type": "markdown",
      "metadata": {
        "id": "yngM4naA4KPX"
      },
      "source": [
        "**Quantos atributos (variáveis) e quantas entradas o nosso conjunto de dados possui?**"
      ]
    },
    {
      "cell_type": "code",
      "metadata": {
        "id": "lweqhlY3ueOG"
      },
      "source": [
        "print('Colunas:', treino.shape[1])\n",
        "print('Linhas:', treino.shape[0])"
      ],
      "execution_count": null,
      "outputs": []
    },
    {
      "cell_type": "markdown",
      "metadata": {
        "id": "9l_aTShH4xdR"
      },
      "source": [
        "**Quais os tipos das variáveis?**"
      ]
    },
    {
      "cell_type": "code",
      "metadata": {
        "id": "yD-oZPpXuO60"
      },
      "source": [
        "treino.dtypes"
      ],
      "execution_count": null,
      "outputs": []
    },
    {
      "cell_type": "markdown",
      "metadata": {
        "id": "B-3-a_jpwhmP"
      },
      "source": [
        "O conjunto de dados contém 7 variáveis numéricas e 5 do tipo *object*, estas últimas são *strings*, como pudemos observar nas primeiras linhas do *dataset*."
      ]
    },
    {
      "cell_type": "markdown",
      "metadata": {
        "id": "BCkfst2F-vI-"
      },
      "source": [
        "**Há dados faltantes no *dataset*?**"
      ]
    },
    {
      "cell_type": "code",
      "metadata": {
        "id": "xMdbJ9rK-z34"
      },
      "source": [
        "treino.isnull().sum()"
      ],
      "execution_count": null,
      "outputs": []
    },
    {
      "cell_type": "markdown",
      "metadata": {
        "id": "UVJmezEuxR0f"
      },
      "source": [
        "Três variáveis possuem valores ausentes, `Age`, `Cabin` e `Embarked`. Como já fizemos anteriormente, precisamos tratar estes casos."
      ]
    },
    {
      "cell_type": "markdown",
      "metadata": {
        "id": "9_wabs2e_a1K"
      },
      "source": [
        "**Qual a distribuição estatística dos dados?**"
      ]
    },
    {
      "cell_type": "code",
      "metadata": {
        "id": "LPX8Oh5u-4fa"
      },
      "source": [
        "treino.describe()"
      ],
      "execution_count": null,
      "outputs": []
    },
    {
      "cell_type": "markdown",
      "metadata": {
        "id": "X05ebC5yyl0Q"
      },
      "source": [
        "Acima, podemos ver o resumo dos principais parâmetros estatísticos do nosso conjunto de dados. Nele, são apresentados valores de média, mediana, desvio padrão, etc. O resumo se refere apenas às variáveis numéricas.\n",
        "\n",
        "Mais precisamente, as variáveis que realmente importam no caso são `Pclass`, `Age`, `SibSb`, `Parch` e `Fare`, uma vez que `PassengerID` e `Survived` identificam o número do passageiro e se ele sobreviveu ao desastre, respectivamente."
      ]
    },
    {
      "cell_type": "markdown",
      "metadata": {
        "id": "VxDR16WZ_eom"
      },
      "source": [
        "**Existem *outliers* no conjunto de dados?**"
      ]
    },
    {
      "cell_type": "markdown",
      "metadata": {
        "id": "TcujVFoSzHK8"
      },
      "source": [
        "É fundamental sabermos identificar a presença de *outliers* no *dataset*, dados que se diferenciam muito dos outros, ou seja, são valores que fogem da normalidade. Eles podem influenciar drasticamente uma determinada análise realizada no *dataset*, causando problemas nos resulados obtidos.\n",
        "\n",
        "Graficamente, os *outliers* podem ser identificados através de histogramas ou usando o **boxplot**, e é isso que será feito em seguida."
      ]
    },
    {
      "cell_type": "code",
      "metadata": {
        "id": "6S0xR99jxqI0"
      },
      "source": [
        "fig, (axis1, axis2) = plt.subplots(2,1, figsize = (15,6))\n",
        "sns.boxplot(data = treino, x = 'Age', ax = axis1)\n",
        "sns.boxplot(data = treino, x = 'Fare', ax = axis2)\n",
        "\n",
        "plt.tight_layout()"
      ],
      "execution_count": null,
      "outputs": []
    },
    {
      "cell_type": "markdown",
      "metadata": {
        "id": "SwVqiHaCzYR8"
      },
      "source": [
        "Acima, podemos perceber que existem *outliers* presentes no conjunto de dados. Mais especificamente, os gráficos mostram esses resultados para as variáveis `Age` e `Fare`. Precisamos tratar esses dados também.\n",
        "\n",
        "Após extrairmos algumas informações iniciais do conjunto de dados, podemos partir para questionamentos mais específicos, relacionados diretamente à chance de sobrevivência de um determinado grupo de passageiros, considerando classe de embarque, sexo, idade, etc."
      ]
    },
    {
      "cell_type": "code",
      "metadata": {
        "id": "rLz12pQKRHIU"
      },
      "source": [
        "fig, (axis1, axis2, axis3) = plt.subplots(1,3, figsize = (15,5))\n",
        "\n",
        "sns.barplot(data = treino, x = 'Sex', y = 'Survived', ax = axis1)\n",
        "sns.barplot(data = treino, x = 'Pclass', y = 'Survived', ax = axis2)\n",
        "sns.barplot(data = treino, x = 'Embarked', y = 'Survived', ax = axis3)\n",
        "\n",
        "plt.tight_layout()"
      ],
      "execution_count": null,
      "outputs": []
    },
    {
      "cell_type": "markdown",
      "metadata": {
        "id": "xrpLb7u8d-Lm"
      },
      "source": [
        "A partir da análise dos três gráficos acima, podemos extrair duas informações importantes:\n",
        "\n",
        "* As mulheres têm muito mais chances de sobreviverem do que os homens, enquanto elas possuem cerca de **75%** de chances, os homens apresentam cerca de **18%**.\n",
        "\n",
        "* Os passageiros que viajaram na **1ª Classe** possuem mais que o dobro de chances de sobreviverem em relação aos que compraram a **3ª Classe**.\n",
        "\n",
        "* Os passageiros que embarcaram a partir da cidade de **Cherbourg** são os que mais têm chances de sobreviverem, enquanto os que embarcaram em **Southampton**, possuem as menores chances.\n",
        "\n",
        "As probabilidades de sobrevivência das mulheres no desastre do Titanic se estestem para todos os casos individuais, para todas as classes de viagem e cidades de embarque, como podemos observar nos gráficos abaixo."
      ]
    },
    {
      "cell_type": "code",
      "metadata": {
        "id": "_B5Z-B2a4wKV"
      },
      "source": [
        "sns.catplot(x = \"Sex\", y = \"Survived\", col = \"Pclass\", data = treino, saturation = .5, kind = \"bar\", ci = None, aspect = 0.8)\n",
        "sns.catplot(x = \"Sex\", y = \"Survived\", col = \"Embarked\", data = treino, saturation = .5, kind = \"bar\", ci = None, aspect = 0.8)\n",
        "\n",
        "plt.tight_layout()"
      ],
      "execution_count": null,
      "outputs": []
    },
    {
      "cell_type": "markdown",
      "metadata": {
        "id": "9FqLXEm6gHG1"
      },
      "source": [
        "Também podemos realizar a análise em relação às idades dos passageiros e saber quais tiveram mais chances de sobreviver."
      ]
    },
    {
      "cell_type": "code",
      "metadata": {
        "id": "RXJrtUabgrRL"
      },
      "source": [
        "sns.FacetGrid(treino, col = 'Survived', height = 5).map(sns.distplot, 'Age')\n",
        "\n",
        "plt.tight_layout()"
      ],
      "execution_count": null,
      "outputs": []
    },
    {
      "cell_type": "markdown",
      "metadata": {
        "id": "qwFK-R39o9dr"
      },
      "source": [
        "Os gráficos acima mostram a distribuição de idades para os sobreviventes e mortes no naufrágio, podemos perceber que a maior parte dos passageiros, nas duas situações, possuem idades entre 20 e 30 anos.\n",
        "\n",
        "No gráfico da direita (sobreviventes), podemos perceber que há um pico nos passageiros que possuem idade de até 5 anos, mostrando que crianças um pouco menores têm mais chances de sobreviver.\n"
      ]
    },
    {
      "cell_type": "markdown",
      "metadata": {
        "id": "HzloyvSB_pzb"
      },
      "source": [
        "**Qual a correlação entre as variáveis do *dataset*?**"
      ]
    },
    {
      "cell_type": "markdown",
      "metadata": {
        "id": "aOunA_Cwq7MI"
      },
      "source": [
        "Através do gráfico a seguir, podemos entender a correlação entre as variáveis, se é positiva ou negativa:"
      ]
    },
    {
      "cell_type": "code",
      "metadata": {
        "id": "vt0xrSy0hXJ-"
      },
      "source": [
        "# colormap = sns.diverging_palette(220, 10, as_cmap = True)\n",
        "\n",
        "fig, ax = plt.subplots(figsize = (8,6))\n",
        "ax = sns.heatmap(treino.corr(), fmt = '.2g', cmap = 'Purples', annot= True)\n",
        "plt.tight_layout()"
      ],
      "execution_count": null,
      "outputs": []
    },
    {
      "cell_type": "markdown",
      "metadata": {
        "id": "13GTV9nLrdcN"
      },
      "source": [
        "As maiores correlações apresentadas foram entre as variáveis `Parch` (quantidade de pais e filhos a bordo) e `SibSp` (quantidade de cônjuges e irmãos a bordo), cujo valor é de 0,41.\n",
        "\n",
        "Ao final dessa análise exploratória, foi possível entender melhor os dados e como eles se comportam, extraindo informações que serão importantes ao implementar o modelo de machine learning, pois será mais fácil escolher as melhores variáveis para melhorar o desempenho do modelo."
      ]
    },
    {
      "cell_type": "markdown",
      "metadata": {
        "id": "vPK9xbRTsVTp"
      },
      "source": [
        "### **Modelo de Machine Learning**"
      ]
    },
    {
      "cell_type": "markdown",
      "metadata": {
        "id": "MMhW4V7Z55YA"
      },
      "source": [
        "O modelo preditivo a ser implementado após a análise exploratória será de Aprendizado Supervisionado.\n",
        "\n",
        "Com base nisso e nas descrições das colunas do dataset, é fácil identificar que a coluna Survived é a variável alvo (target).\n",
        "\n",
        "Agora que já sabemos o comportamento geral dos dados, podemos prepará-los para construir o modelo de ML, selecionando as melhores *features* (variáveis) e limpando os dados necessários.\n",
        "\n",
        "Neste projeto, serão implementados modelos de classificação, pois procuramos saber quais passageiros sobreviveram ou não ao naufrágio.\n",
        "\n",
        "Mais especificamente, implementaremos modelos de Regressão Logística, Árvore de Decisão e Máquina de Vetor de Suporte (SVM). Os desempenhos de cada modelo serão analisados e comparados considerando as devidas métricas para modelos de classificação.\n",
        "\n",
        "Por fim, é facultativo [submeter os resultados à competição do Kaggle](https://www.kaggle.com/competitions/titanic) e verificar o *score* (pontuação) alcançado."
      ]
    },
    {
      "cell_type": "markdown",
      "metadata": {
        "id": "zInCN9y0MQtC"
      },
      "source": [
        "#### **Preparação dos Dados**\n",
        "\n",
        "Nesta etapa, devemos nos preocupar em fazer os ajustes finais dos dados e tratá-los para alimentar o modelo. Esses ajustes envolver a seleção das *features*, criação de novas variáveis, limpeza dos dados, separação do dataset etc."
      ]
    },
    {
      "cell_type": "markdown",
      "source": [
        "##### **Organizando os datasets**\n",
        "\n",
        "Apesar de os datasets de treino e testes estarem inicialmente separados, uma boa prática é juntá-los em um único dataset para poder aplicar as devidas alterações e depois separá-los novamente. Isso, além de importante, oferece praticidade, pois as mudanças precisam ser as mesmas para os dois conjuntos de dados."
      ],
      "metadata": {
        "id": "9XWjXWZQYFJz"
      }
    },
    {
      "cell_type": "code",
      "metadata": {
        "id": "Ee8aCYJXPPq_"
      },
      "source": [
        "# SALVANDO OS ÍNDICES PARA RECUPERAÇÃO DOS CONJUNTOS DE DADOS\n",
        "treino_ID = treino.shape[0]\n",
        "teste_ID = teste.shape[0]"
      ],
      "execution_count": null,
      "outputs": []
    },
    {
      "cell_type": "code",
      "metadata": {
        "id": "fff7uTMZOuwA"
      },
      "source": [
        "# SALVANDO VARIÁVEL ALVO (TARGET) E SEPARANDO DO DATASET DE TREINO\n",
        "target = treino['Survived'].copy()\n",
        "treino.drop(['Survived'], axis = 1, inplace = True)"
      ],
      "execution_count": null,
      "outputs": []
    },
    {
      "cell_type": "code",
      "metadata": {
        "id": "wT3-jfFBVa3F"
      },
      "source": [
        "# JUNTANDO OS CONJUNTOS DE DADOS\n",
        "df_total = pd.concat(objs = [treino, teste], axis = 0).reset_index(drop = True)"
      ],
      "execution_count": null,
      "outputs": []
    },
    {
      "cell_type": "code",
      "metadata": {
        "id": "FpMPhApEWI4v"
      },
      "source": [
        "# TAMANHO DO NOVO DATASET\n",
        "df_total.shape"
      ],
      "execution_count": null,
      "outputs": []
    },
    {
      "cell_type": "markdown",
      "metadata": {
        "id": "szr2mcF3BRim"
      },
      "source": [
        "##### **Selecionando as principais variáveis**\n",
        "\n",
        "Nessa etapa, é fundamental selecionarmos as variáveis que realmente são relevantes para a construção do modelo.\n",
        "\n",
        "Contudo, vale ressaltar que nem sempre fazemos as melhores escolhas ao selecionar as *features*, sendo preciso repensar e avaliar novamente a significância das variáveis.\n",
        "\n",
        "Neste projeto, serão consideradas apenas as variáveis `Pclass`, `Sex`, `Age`, `SibSp`, `Parch`, `Fare`, `Embarked`.\n",
        "\n",
        "Assim, as demais variáveis serão descartadas daqui em diante, por não serem relevantes."
      ]
    },
    {
      "cell_type": "code",
      "metadata": {
        "id": "Y_m1nJqcBiNL"
      },
      "source": [
        "# REMOVENDO AS VARIÁVEIS IRRELEVANTES\n",
        "df_total.drop(['PassengerId', 'Name', 'Ticket', 'Cabin'], axis = 1, inplace = True)"
      ],
      "execution_count": null,
      "outputs": []
    },
    {
      "cell_type": "code",
      "metadata": {
        "id": "qtPjdsxCB2uf"
      },
      "source": [
        "# RESUTLADO\n",
        "df_total.head()"
      ],
      "execution_count": null,
      "outputs": []
    },
    {
      "cell_type": "markdown",
      "metadata": {
        "id": "IU_1fN6iCT23"
      },
      "source": [
        "##### **Tratando valores ausentes**\n",
        "\n",
        "Como comentado anteriormente, a presença de valores faltantes no conjunto de dados influencia diretamente as análises exploratória e o aprendizado dos modelos. Desta forma, precisamos tratar esses dados adotando alguns métodos, como, por exemplo, excluindo esses valores ou substituindo-os por outros que possivelmente representem bem esses dados."
      ]
    },
    {
      "cell_type": "code",
      "metadata": {
        "id": "LvCOxy32CA2k"
      },
      "source": [
        "df_total.isnull().sum()"
      ],
      "execution_count": null,
      "outputs": []
    },
    {
      "cell_type": "markdown",
      "metadata": {
        "id": "6Ohjk4wGEdfJ"
      },
      "source": [
        "Podemos perceber pela imagem acima que a maior quantidade de dados faltantes está presente na variável `Age` e, como visto anteriormente, essa coluna também possui outliers.\n",
        "\n",
        "As colunas `Fare` e `Embarked` também apresentam valores faltantes, mas insignificantes, em quantidade, quando comparados à variável `Age`.\n",
        "\n",
        "Neste trabalho, serão utilizados os valores das medianas para substituir os dados ausentes das variáveis `Age` e `Fare`, enquanto para  `Embarked` será usado o valor mais frequente."
      ]
    },
    {
      "cell_type": "code",
      "metadata": {
        "id": "98wmxLvJDvrj"
      },
      "source": [
        "# MEDIANA DA COLUNA 'AGE'\n",
        "Age_mediana = df_total['Age'].median()\n",
        "df_total['Age'].fillna(Age_mediana, inplace = True)\n",
        "\n",
        "# MEDIANA DA COLUNA 'FARE'\n",
        "Fare_mediana = df_total['Fare'].median()\n",
        "df_total['Fare'].fillna(Fare_mediana, inplace = True)\n",
        "\n",
        "# VERIFICANDO O VALOR MAIS FREQUENTE DA COLUNA 'EMBARKED'\n",
        "df_total['Embarked'].mode()\n",
        "\n",
        "# SUBSTITUINDO O VALOR\n",
        "df_total['Embarked'].fillna('S', inplace = True)"
      ],
      "execution_count": null,
      "outputs": []
    },
    {
      "cell_type": "code",
      "metadata": {
        "id": "vnlFZwswSl20"
      },
      "source": [
        "# VERIFICANDO O RESULTADO DAS SUBSTITUIÇÕES\n",
        "df_total.isnull().sum()"
      ],
      "execution_count": null,
      "outputs": []
    },
    {
      "cell_type": "markdown",
      "metadata": {
        "id": "ZU4J0ZRH3RyZ"
      },
      "source": [
        "##### **Ajustando as variáveis para o modelo**\n",
        "\n",
        "Após tratar os dados ausentes, o tratamento dos dados está praticamente concluído. Agora, é preciso converter os dados que irão alimentar o modelo de categóricos para numéricos.\n",
        "\n",
        "Neste caso, as variável `Sex` e `Embarked` serão convertidas para valores numéricos."
      ]
    },
    {
      "cell_type": "code",
      "metadata": {
        "id": "-bDmCzIWVXcV"
      },
      "source": [
        "# TRANSFORMANDO AS VARIÁVEIS PARA NUMÉRICAS\n",
        "df_total['Sex'] = df_total['Sex'].map({'male' : 1, 'female' : 0})\n",
        "\n",
        "df_total['Embarked'] = df_total['Embarked'].astype('category')\n",
        "df_total['Embarked'] = df_total['Embarked'].cat.codes"
      ],
      "execution_count": null,
      "outputs": []
    },
    {
      "cell_type": "code",
      "metadata": {
        "id": "NcZJgM3627Ij"
      },
      "source": [
        "# VISUALIZANDO O RESUTLADO\n",
        "df_total.head()"
      ],
      "execution_count": null,
      "outputs": []
    },
    {
      "cell_type": "markdown",
      "metadata": {
        "id": "AMsYG55A4JK2"
      },
      "source": [
        "Outra opção seria tratar as variáveis usando o [`One Hot Encoding`](https://scikit-learn.org/stable/modules/generated/sklearn.preprocessing.OneHotEncoder.html) do Scikit-learn para converter as variáveis para numéricas.\n"
      ]
    },
    {
      "cell_type": "markdown",
      "metadata": {
        "id": "zOar1Tte5y5q"
      },
      "source": [
        "##### **Recuperando os conjuntos de treino e teste**\n",
        "\n",
        "Depois de aplicar as devidas alterações nos conjuntos de dados, podemos separá-los novamente e obter os dados de treino e teste a partir do índice que salvamos no início: treino_ID e teste_ID."
      ]
    },
    {
      "cell_type": "code",
      "metadata": {
        "id": "5-7toBHh3wrM"
      },
      "source": [
        "# SEPARANDO OS CONJUNTOS DE DADOS\n",
        "treino = df_total.iloc[:treino_ID]\n",
        "teste = df_total.iloc[treino_ID:]"
      ],
      "execution_count": null,
      "outputs": []
    },
    {
      "cell_type": "code",
      "metadata": {
        "id": "WF3yrHkr6hhW"
      },
      "source": [
        "# VISUALIZANDO RESULTADOS\n",
        "display(treino.head())\n",
        "display(teste.head())"
      ],
      "execution_count": null,
      "outputs": []
    },
    {
      "cell_type": "markdown",
      "metadata": {
        "id": "n0LtfYwd73q8"
      },
      "source": [
        "#### **Implementação do modelo**\n",
        "\n",
        "Esta etapa costuma ser mais rápida de ser realizada, justamente porque a maior parte do tempo foi investido na análise exploratória e tratamento dos dados.\n",
        "\n",
        "Outro fator, é que a implementação dos modelos de Machine Learning são muito automatizados, sendo necessário apenas algumas linhas de código para treinar, testar e avaliar o modelo.\n",
        "\n",
        "Como citado anteriormente, serão implementados os modelos de Regressão Logística, Árvore de Decisão e Máquina de Vetor de Suporte (SVM). Para esta finalidade, será utilizada a biblioteca Scikit-Learn."
      ]
    },
    {
      "cell_type": "markdown",
      "metadata": {
        "id": "7iC5hiZb60EN"
      },
      "source": [
        "##### **Regressão Logística**"
      ]
    },
    {
      "cell_type": "code",
      "metadata": {
        "id": "iz3lfsLS7QG7"
      },
      "source": [
        "# IMPORTAÇÃO DO MODELO\n",
        "from sklearn.linear_model import LogisticRegression\n",
        "\n",
        "# INSTANCIANDO O MODELO\n",
        "LR_model = LogisticRegression(solver = 'liblinear')\n",
        "\n",
        "# TREINANDO O MODELO\n",
        "LR_model.fit(treino, target)"
      ],
      "execution_count": null,
      "outputs": []
    },
    {
      "cell_type": "code",
      "metadata": {
        "id": "syw3hEH480aX"
      },
      "source": [
        "# PREDIÇÃO DO MODELO\n",
        "y_pred_LR = LR_model.predict(teste)"
      ],
      "execution_count": null,
      "outputs": []
    },
    {
      "cell_type": "code",
      "metadata": {
        "id": "bDgLqHb3C05t"
      },
      "source": [
        "# ACURÁCIA DO MODELO\n",
        "acc_logReg = round(LR_model.score(treino, target)*100, 2)\n",
        "print('Acurácia RL: ', acc_logReg)"
      ],
      "execution_count": null,
      "outputs": []
    },
    {
      "cell_type": "markdown",
      "metadata": {
        "id": "Dz6Zb4wx66_k"
      },
      "source": [
        "##### **Árvore de Decisão**"
      ]
    },
    {
      "cell_type": "code",
      "metadata": {
        "id": "Hso1dlqf69q4"
      },
      "source": [
        "# IMPORTAÇÃO DO MODELO\n",
        "from sklearn.tree import DecisionTreeClassifier\n",
        "\n",
        "# INSTANCIANDO O MODELO\n",
        "DT_model = DecisionTreeClassifier(max_depth = 3)\n",
        "\n",
        "# TREINANDO O MODELO\n",
        "DT_model.fit(treino, target)"
      ],
      "execution_count": null,
      "outputs": []
    },
    {
      "cell_type": "code",
      "metadata": {
        "id": "uU-KWhlMKtcK"
      },
      "source": [
        "# PREDIÇÃO DO MODELO\n",
        "\n",
        "y_pred_DT = DT_model.predict(teste)"
      ],
      "execution_count": null,
      "outputs": []
    },
    {
      "cell_type": "code",
      "metadata": {
        "id": "0x0b1fD1KN4j"
      },
      "source": [
        "# ACURÁCIA DO MODELO\n",
        "\n",
        "acc_tree = round(DT_model.score(treino, target)*100, 2)\n",
        "\n",
        "print('Acurácia DT: ', acc_tree)"
      ],
      "execution_count": null,
      "outputs": []
    },
    {
      "cell_type": "markdown",
      "metadata": {
        "id": "i5Lj3Bwe6-bp"
      },
      "source": [
        "##### **Máquina de Vetor de Suporte**"
      ]
    },
    {
      "cell_type": "code",
      "metadata": {
        "id": "HGNWkp8P7F0A"
      },
      "source": [
        "# IMPORTAÇÃO DO MODELO\n",
        "from sklearn import svm\n",
        "\n",
        "# INSTANCIANDO O MODELO\n",
        "SVM_model = svm.SVC(C = 1, kernel = 'linear')\n",
        "\n",
        "# TREINAMENTO DO MODELO\n",
        "SVM_model.fit(treino, target)"
      ],
      "execution_count": null,
      "outputs": []
    },
    {
      "cell_type": "code",
      "metadata": {
        "id": "XQ_SFY_0AE3e"
      },
      "source": [
        "# ACURÁCIA DO MODELO\n",
        "acc_svm = round(SVM_model.score(treino, target)*100, 2)\n",
        "print('Acurácia DT: ', acc_svm)"
      ],
      "execution_count": null,
      "outputs": []
    },
    {
      "cell_type": "code",
      "metadata": {
        "id": "xmW3IgsWBdOC"
      },
      "source": [
        "y_pred_SVM = SVM_model.predict(teste)"
      ],
      "execution_count": null,
      "outputs": []
    },
    {
      "cell_type": "markdown",
      "metadata": {
        "id": "TfmpjbYZp2Zp"
      },
      "source": [
        "##### Comparação\n",
        "\n",
        "O modelo que apresentou o melhor resultado foi o de Árvore de Decisão, com acurácia de 82.72\n",
        "\n",
        "É importante ressaltar que este foram modelos iniciais e que várias alterações podem ser feitas para melhorá-los."
      ]
    },
    {
      "cell_type": "markdown",
      "source": [
        "---\n",
        "\n",
        "Notebook utilizado para fins educacionais da **Awari**.\n",
        "\n",
        "**© AWARI. Todos os direitos reservados.**"
      ],
      "metadata": {
        "id": "ylKsYHAFTZro"
      }
    }
  ]
}