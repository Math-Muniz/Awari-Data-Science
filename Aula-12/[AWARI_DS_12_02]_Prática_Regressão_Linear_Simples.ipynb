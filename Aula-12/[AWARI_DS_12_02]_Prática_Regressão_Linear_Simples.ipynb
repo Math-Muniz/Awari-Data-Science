{
  "cells": [
    {
      "cell_type": "markdown",
      "source": [
        "![header-notebooks.png](data:image/png;base64,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)\n",
        "\n",
        "Prática da **Aula 12: Machine Learning II**, do curso de **Data Science** da **[Awari](https://awari.com.br/)**. Para utilizá-la, vá no menu \"Arquivo\" e, em seguida, na opção \"Salvar uma cópia no Drive\". Isto criará uma cópia deste notebook em uma pasta chamada \"Colab Notebooks\", no seu Google Drive pessoal. Use a cópia para criar novas células de código ou executar as células desta prática.\n",
        "\n",
        "---"
      ],
      "metadata": {
        "id": "mVMPhCxNKWDw"
      }
    },
    {
      "cell_type": "markdown",
      "source": [
        "# **Regressão Linear Simples**"
      ],
      "metadata": {
        "id": "U3dCLFOnDO1e"
      }
    },
    {
      "cell_type": "markdown",
      "source": [
        "## **Objetivo**\n",
        "\n",
        "Nesta prática, vamos aprender os conceitos por trás de um dos métodos mais utilizados na Estatística e no Machine Learning: a Regressão Linear.\n",
        "\n",
        "Neste método, grosso modo, o que queremos é traçar uma reta que melhor se ajusta aos dados de um conjunto, como na figura animada abaixo:\n",
        "\n",
        "<img src=\"https://github.com/omnijus-persival/sigmoidal_ai/blob/master/img/linha_regressao.gif?raw=1\" width=\"400\"/>\n",
        "\n",
        "É esta linha que ajudará a prever quais novos dados se ajustam a ela -- não à toa que a regressão linear é um tipo de *modelo preditivo*.\n",
        "\n",
        "Este notebook traz uma conceituação um pouco mais aprofundada que o normal, porém sem exagerar em formalidade/rigor matemático.\n",
        "\n",
        "O objetivo é demonstrar a importância de entender o que acontece por trás de todas as linhas de código que escrevemos em notebooks, das bibliotecas Python ou dos algoritmos de Machine Learning."
      ],
      "metadata": {
        "id": "Z2pZdNdIKSgZ"
      }
    },
    {
      "cell_type": "markdown",
      "metadata": {
        "id": "XpdLhnDDdK2C"
      },
      "source": [
        "## **Entendendo o conceito**\n",
        "\n",
        "O objetivo da análise de regressão é explorar o relacionamento existente entre duas ou mais variáveis, visando obter informações sobre uma delas a partir dos valores conhecidas das outras.\n",
        "\n",
        "A análise de regressão busca entender o relacionamento entre variáveis, e esse relacionamento pode ser representado por uma equação matemática.\n",
        "\n",
        "<img src=\"https://github.com/omnijus-persival/sigmoidal_ai/blob/master/img/regressao_linear_ex.png?raw=1\" alt=\"Regressão Linear\" width=\"300\"/>\n",
        "\n",
        "Vamos supor que você queira saber o preço de venda de sua casa e acredita que existe um relacionamento entre as variáveis que você está considerando (área construída, número de quartos e localização) com o preço que você pode pedir nela.\n",
        "\n",
        "É possível fazer uma análise de regressão, baseado nas outras casas da cidade para estimar o preço de venda da sua, após obter os pesos para os parâmetros em um modelo de Machine Learning.\n",
        "\n",
        "#### **Relação não determinística**\n",
        "\n",
        "Um ponto importante, mas muito desconhecido, é que, em problemas do cotidiano, muitas variáveis $x$ e $y$ aparentam estar relacionadas uma com a outra, porém de maneira *não determinística*.\n",
        "\n",
        "Uma relação determínistica, por exemplo, é quando  queremos saber a distância percorrida por um carro, mantendo velocidade constante $v$ ao longo de $\\Delta t$ segundos. Nesse exemplo, sabemos que a distância percorrida será $\\Delta s = v * \\Delta t$, pois as variáveis estão relacionadas deterministicamente.\n",
        "\n",
        "Um exemplo de variáveis relacionadas de maneira não determinística é se quisessemos saber $y = \\text{tamanho do vocabulário de uma criança}$ sendo $x = \\text{idade dessa criança}$."
      ]
    },
    {
      "cell_type": "markdown",
      "source": [
        "## **Prática**"
      ],
      "metadata": {
        "id": "iDQ-Sc8uNLb1"
      }
    },
    {
      "cell_type": "markdown",
      "source": [
        "### **Relação determinística vs. não determinística**"
      ],
      "metadata": {
        "id": "qGYW6xGzQIlm"
      }
    },
    {
      "cell_type": "code",
      "execution_count": null,
      "metadata": {
        "id": "DPvssbQJdK1_"
      },
      "outputs": [],
      "source": [
        "# Importando bibliotecaas\n",
        "import numpy as np\n",
        "import matplotlib.pyplot as plt\n",
        "%matplotlib inline"
      ]
    },
    {
      "cell_type": "code",
      "execution_count": null,
      "metadata": {
        "id": "XYZQPhJFdK2E"
      },
      "outputs": [],
      "source": [
        "# Exemplo de plots determinísticos\n",
        "np.random.seed(42)\n",
        "det_x = np.arange(0,10,0.1)\n",
        "\n",
        "det_y = 2 * det_x + 3\n",
        "\n",
        "# Exemplo de plots não determinísticos\n",
        "non_det_x = np.arange(0, 10, 0.1)\n",
        "non_det_y = 2 * non_det_x + np.random.normal(size=100)\n",
        "\n",
        "# Plotando determinísticos vs. não determinísticos\n",
        "fig, axs = plt.subplots(1, 2, figsize=(10,4), constrained_layout=True)\n",
        "\n",
        "axs[0].scatter(det_x, det_y, s=2)\n",
        "axs[0].set_title(\"Determinístico\")\n",
        "\n",
        "axs[1].scatter(non_det_x, non_det_y, s=2)\n",
        "axs[1].set_title(\"Não Determinístico\")\n",
        "\n",
        "plt.show()"
      ]
    },
    {
      "cell_type": "markdown",
      "metadata": {
        "id": "eDcF0TzmdK2F"
      },
      "source": [
        "Olhando rapidamente, conseguimos ver uma diferença importante. Apesar dos dois gráficos mostraem pontos que se espalham sobre uma \"reta virtual\", um deles não segue um padrão exato, *determinístico*. Parece que há algum tipo de aleatoriedade envolvida.\n",
        "\n",
        "Ou seja, nos modelos de Regressão Linear que usamos em Machine Learning, não temos uma relação perfeita entre as variáveis, pois as observações do dataset (conjunto de dados) não cabem exatamente em uma reta.\n",
        "\n",
        "Isso significa que temos um modelo probabilístico, que captura a aleatoriedade que é inerente de qualquer processo do mundo real.\n",
        "\n",
        "Pense: você consegue traçar uma reta pegando todos os pontos no gráfico da esquerda? Ou consegue traçar uma reta pegando todos os pontos no gráfico da direita?\n",
        "\n",
        "Voltando àquele exemplo de vender sua casa, basta imaginar que seu vizinho tem uma casa do mesmo tamanho, mesmo número de quartos, mesma localização, porém elas dificilmente teriam o mesmo preço exato."
      ]
    },
    {
      "cell_type": "markdown",
      "metadata": {
        "id": "3jinDYeDdK2G"
      },
      "source": [
        "### **Modelo de regressão linear simples**\n",
        "\n",
        "Para representar a relação entre uma variável dependente ($y$) e uma variável independente ($x$), usamos o modelo:\n",
        "\n",
        "$$y = \\beta_0 + \\beta_1 x + \\varepsilon$$\n",
        "\n",
        "O mesmo determina uma linha reta com inclinação $\\beta_1$ e intercepto $\\beta_0$, com a variável aleatória (erro) $\\varepsilon$, considerada normalmente distribuída com $E(\\varepsilon) = 0$ e $V(\\varepsilon) = \\sigma^2$.\n",
        "\n",
        "Para simplificar, vamos assumir a premissa de que o valor médio da variável $\\varepsilon$ para um dado valor de $x$ é $0$. Dessa maneira, a equação tem a seguinte forma:\n",
        "\n",
        "$$y = \\beta_0 + \\beta_1 x$$\n",
        "\n",
        "Quando implementamos um modelo de Regressão Linear com o [`scikit-learn`](https://scikit-learn.org/stable/) (biblioteca de Machine Learning), queremos encontrar os valores dos parâmetros $\\beta_0$ e $\\beta_1$ que melhor representam o relacionamento entre as variáveis.\n",
        "\n",
        "Antes de você chamar o `fit()` (ajuste) do seu modelo, $\\beta_0$ e $\\beta_1$ são parâmetros totalmente desconhecidos.\n",
        "\n",
        "<img src=\"https://github.com/omnijus-persival/sigmoidal_ai/blob/master/img/retas_regressao_linear.png?raw=1\" width=\"300\" />\n",
        "\n",
        "Olhando no gráfico acima, você é capaz de dizer qual reta seria mais plausível?\n",
        "\n",
        "Parece óbvio que é a reta verde. Porém, não seria possível essa análise visual caso tivessemos centenas de variáveis. E também temos um problema: o computador não consegue \"olhar\" para ver qual reta fica melhor.\n",
        "\n",
        "A questão é: como encontrar boas estimativas de $\\beta_0$ e $\\beta_1$ para que nosso modelo forneca boas estimativas?\n",
        "\n",
        "(Se até agora tudo ainda está confuso e você não consegue enxergar uma reta na equação acima, sugerimos revisar a [equação fundamental da reta](https://pt.khanacademy.org/math/algebra/two-var-linear-equations/point-slope/v/idea-behind-point-slope-form).)"
      ]
    },
    {
      "cell_type": "markdown",
      "metadata": {
        "id": "q5A19lSadK2G"
      },
      "source": [
        "### **Estimando os parâmetros do modelo**\n",
        "\n",
        "De acordo com [Devore](https://www.amazon.com.br/Probabilidade-estat%C3%ADstica-para-engenharia-ciências/dp/8522111839/ref=sr_1_1?__mk_pt_BR=ÅMÅŽÕÑ&keywords=devore&qid=1564349463&s=gateway&sr=8-1), um método usado para verificar se uma reta oferece um bom ajuste aos dados é o **Método dos Mínimos Quadrados**.\n",
        "\n",
        "De acordo com esse método, o desvio vertical do ponto $(x_i, y_i)$ da reta $y=\\beta_0 + \\beta_1x$ é:\n",
        "\n",
        "$$\\text{altura do ponto} - \\text{altura da reta} = y_i = (\\beta_0 + \\beta_1 x_i)$$\n",
        "\n",
        "A soma dos quadrados de tais desvios verticais dos pontos $(x_1, y_1), \\dots, (x_n, y_n)$ à reta é, portanto,\n",
        "\n",
        "$$f(\\beta_0, \\beta_1) = \\sum_{i=1}^{n}[y_i - (\\beta_0 + \\beta_1x_i)]^2$$\n",
        "\n",
        "Uma reta é razoável se as distâncias verticais (desvios) dos pontos analisados em relação à reta são pequenas.\n",
        "\n",
        "<img src=\"https://github.com/omnijus-persival/sigmoidal_ai/blob/master/img/desvios_reta.png?raw=1\" width=\"400\"/>\n",
        "\n",
        "Ou seja, a reta que tem o melhor ajuste possível é aquela na qual se tem a menor soma possível de desvios quadrados.\n",
        "\n",
        "Os valores de minimização $\\beta_0$ e $\\beta_1$ são encontrados quando se resolvem as derivadas parciais abaixo, igualando-as a $0$.\n",
        "\n",
        "$$\\frac{\\partial f(\\beta_0, \\beta_1)}{\\partial \\beta_0} = \\sum 2(y_i - \\beta_0 - \\beta_1 x_i)(-1) = 0$$\n",
        "\n",
        "e:\n",
        "\n",
        "$$\\frac{\\partial f(\\beta_0, \\beta_1)}{\\partial \\beta_1} = \\sum 2(y_i - \\beta_0 - \\beta_1 x_i)(-x_i) = 0$$\n",
        "\n",
        "Essa etapa requer um conhecimento mais avançado de Cálculo, mas não entraremos nesses detalhes.\n",
        "\n",
        "O que é necessário saber é que a cada iteração do algoritmo a gente espera encontrar a menor soma possível de desvios quadrados."
      ]
    },
    {
      "cell_type": "markdown",
      "metadata": {
        "id": "MVw71GsadK2H"
      },
      "source": [
        "### **Implementando Regressão Linear**\n",
        "\n",
        "Para ver na prática uma aplicação simples e direta da Regressão Linear, vamos usar as variáveis que plotamos no início: `non_det_x` e `non_det_y`.\n",
        "\n",
        "Aqui, estamos ignorando completamente as etapas de *split* entre datasets de treino e teste ou qualquer outro tipo de etapa comum em Machine Learning. O objetivo é apenas encontrar uma reta com um *fit* (ajuste) ideal aos pontos de dados."
      ]
    },
    {
      "cell_type": "code",
      "execution_count": null,
      "metadata": {
        "id": "Hlrj19hddK2I"
      },
      "outputs": [],
      "source": [
        "# importar os pacotes necessários\n",
        "from sklearn.datasets import load_diabetes\n",
        "from sklearn.linear_model import LinearRegression\n",
        "from sklearn.metrics import mean_squared_error"
      ]
    },
    {
      "cell_type": "markdown",
      "metadata": {
        "id": "tZPwf8todK2I"
      },
      "source": [
        "Como temos apenas uma variável, nosso ```x``` é um vetor (1 dimensão).\n",
        "\n",
        "Após minimizar a função custo e encontrar o melhor *fit*, os parâmetros da equação da reta que buscamos estarão armazenados como atributos de ```lm_model```, onde $\\beta_0 = \\text{intercept_}$ e $\\beta_1 = \\text{coef_}$.\n",
        "\n",
        "Imprimindo esses parâmetros, conseguimos ver quais valores numéricos melhor representam nossa reta para o modelo de Regressão Linear:"
      ]
    },
    {
      "cell_type": "code",
      "execution_count": null,
      "metadata": {
        "id": "RFGbznPGdK2I"
      },
      "outputs": [],
      "source": [
        "# criar modelo linear e otimizar\n",
        "lm_model = LinearRegression()\n",
        "lm_model.fit(non_det_x.reshape(-1,1), non_det_y)\n",
        "\n",
        "# extrair coeficientes\n",
        "slope = lm_model.coef_\n",
        "intercept = lm_model.intercept_"
      ]
    },
    {
      "cell_type": "code",
      "execution_count": null,
      "metadata": {
        "id": "obRQ6Wo0dK2I"
      },
      "outputs": [],
      "source": [
        "print(\"b0: \\t{}\".format(intercept))\n",
        "print(\"b1: \\t{}\".format(slope[0]))"
      ]
    },
    {
      "cell_type": "markdown",
      "metadata": {
        "id": "-EJ1Lh2odK2J"
      },
      "source": [
        "Agora, vamos plotar a reta com os valores de parâmetros obtidos, sobrepond0-a aos pontos de dados e obsevando como essa solução é visualmente plausível:"
      ]
    },
    {
      "cell_type": "code",
      "execution_count": null,
      "metadata": {
        "id": "JZvuJHUCdK2J"
      },
      "outputs": [],
      "source": [
        "# plotar pontos e retas com parâmetros otimizados\n",
        "plt.scatter(non_det_x, non_det_y, s=3)\n",
        "plt.plot(non_det_x, (non_det_x * slope + intercept), color='r')\n",
        "\n",
        "plt.show()"
      ]
    },
    {
      "cell_type": "markdown",
      "metadata": {
        "id": "JUC3DJffdK2K"
      },
      "source": [
        "## **Resumo**\n",
        "\n",
        "A solução acima parece, de fato, atender o nosso problema.\n",
        "\n",
        "Este artigo foi muito mais teórico do que uma demonstração de técnicas de Data Science ou Machine Learning, e tudo isso propositalmente. Ao limitar para uma variável, conseguimos realizar os plots em duas dimensões  e acompanhar tudo mais facilmente tudo.\n",
        "\n",
        "Obviamente, todo essa teoria pode ser extrapolada para problemas mais complexos envolvendo múltiplas variáveis.\n",
        "\n",
        "Tenha sempre consciência da importância de ir além da pura e simples aplicação de código. Faça isso para Redes Neurais, Regressão Logística, XGBoost. Sempre tente entender o que acontece por trás do código."
      ]
    },
    {
      "cell_type": "markdown",
      "source": [
        "---\n",
        "\n",
        "Notebook utilizado para fins educacionais da **Awari**.\n",
        "\n",
        "**© AWARI. Todos os direitos reservados.**"
      ],
      "metadata": {
        "id": "vqLnmWZFTPQD"
      }
    }
  ],
  "metadata": {
    "kernelspec": {
      "display_name": "Python 3",
      "language": "python",
      "name": "python3"
    },
    "language_info": {
      "codemirror_mode": {
        "name": "ipython",
        "version": 3
      },
      "file_extension": ".py",
      "mimetype": "text/x-python",
      "name": "python",
      "nbconvert_exporter": "python",
      "pygments_lexer": "ipython3",
      "version": "3.7.3"
    },
    "colab": {
      "provenance": [],
      "toc_visible": true
    }
  },
  "nbformat": 4,
  "nbformat_minor": 0
}